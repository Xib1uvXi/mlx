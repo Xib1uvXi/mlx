{
 "cells": [
  {
   "cell_type": "code",
   "execution_count": null,
   "metadata": {},
   "outputs": [],
   "source": [
    "from ml.feature_engineering.factory import MLXFeaturesFactory\n",
    "\n",
    "features_factory = MLXFeaturesFactory()\n",
    "\n",
    "features = features_factory.load_derivative_features_cache(\"a7856b39-2e54-4282-aead-96d738cbd0d4\")\n",
    "\n",
    "features"
   ]
  },
  {
   "cell_type": "code",
   "execution_count": null,
   "metadata": {},
   "outputs": [],
   "source": [
    "# pca\n",
    "from typing import Optional\n",
    "import numpy as np\n",
    "import pandas as pd\n",
    "\n",
    "import matplotlib.pyplot as plt\n",
    "from sklearn.decomposition import PCA\n",
    "from sklearn.preprocessing import StandardScaler\n",
    "\n",
    "def show_pca(pca: PCA) -> None:\n",
    "    \"\"\"Show PCA result\"\"\"\n",
    "    fig, ax = plt.subplots(figsize=(10, 8))\n",
    "    ax.bar(np.arange(len(pca.explained_variance_ratio_)) + 1, pca.explained_variance_ratio_)\n",
    "    ax.set_xlabel(\"Principal Component\")\n",
    "    ax.set_ylabel(\"Explained Variance Ratio\")\n",
    "    ax.set_title(\"Explained Variance Ratio of Principal Components\")\n",
    "    plt.show()\n",
    "\n",
    "def pca(feature: pd.DataFrame, explained_variance_ratio: float = 0.95) -> Optional[np.ndarray]:\n",
    "    scaler = StandardScaler()\n",
    "    scaler.fit(feature.values)\n",
    "    x_input = scaler.transform(feature.values)\n",
    "\n",
    "    n_components = 0\n",
    "    x_output: Optional[np.ndarray] = None\n",
    "    print(\"input shape: \", x_input.shape)\n",
    "    print(\"n_components max: \", len(feature.columns))\n",
    "\n",
    "    for i in range(1, len(feature.columns)):\n",
    "        pca = PCA(n_components=i)\n",
    "        pca.fit(x_input)\n",
    "        x_output = pca.transform(x_input)\n",
    "\n",
    "        if sum(pca.explained_variance_ratio_) > explained_variance_ratio:\n",
    "            n_components = i\n",
    "            print(\"total explained variance ratio of first {} principal components: {}\".format(i, sum(pca.explained_variance_ratio_)))\n",
    "            show_pca(pca)\n",
    "            break\n",
    "        \n",
    "        x_output = None\n",
    "    \n",
    "    if x_output is None:\n",
    "        raise Exception(\"pca failed\")\n",
    "\n",
    "    print(\"find n_components: \", n_components)\n",
    "    print(\"output shape: \", x_output.shape)\n",
    "    return x_output"
   ]
  },
  {
   "cell_type": "code",
   "execution_count": null,
   "metadata": {},
   "outputs": [],
   "source": [
    "pcadf = features.drop(\"y\", axis=1)\n",
    "pca_output = pca(pcadf)"
   ]
  },
  {
   "cell_type": "code",
   "execution_count": null,
   "metadata": {},
   "outputs": [],
   "source": [
    "from sklearn.model_selection import train_test_split\n",
    "from sklearn.svm import SVC\n",
    "from sklearn.metrics import classification_report\n",
    "from sklearn.preprocessing import StandardScaler\n",
    "\n",
    "\n",
    "num_train = round(len(features)*0.7)\n",
    "\n",
    "data_train = features.iloc[:num_train, :]\n",
    "data_test = features.iloc[num_train:, :]\n",
    "\n",
    "\n",
    "x_train = pca_output[:num_train]\n",
    "y_train = data_train['y']\n",
    "\n",
    "x_test = pca_output[num_train:]\n",
    "y_test = data_test['y']\n",
    "\n",
    "# scaler = StandardScaler()\n",
    "# x_train = scaler.fit_transform(x_train)\n",
    "# x_test = scaler.transform(x_test)\n",
    "\n",
    "\n",
    "model = SVC(C=1, kernel='rbf')\n",
    "model.fit(x_train, y_train)\n",
    "\n",
    "y_train_pred = model.predict(x_train)\n",
    "y_test_pred = model.predict(x_test)\n",
    "\n",
    "train_score = model.score(x_train,y_train)\n",
    "print(\"train score\",train_score)\n",
    "\n",
    "test_score = model.score(x_test,y_test)\n",
    "print(\"test score\",test_score)\n",
    "\n",
    "# report\n",
    "report = classification_report(y_test, y_test_pred, labels=[-1, 0, 1], target_names=['short', 'no', 'long'])\n",
    "print(\"report\", report)"
   ]
  }
 ],
 "metadata": {
  "kernelspec": {
   "display_name": ".venv",
   "language": "python",
   "name": "python3"
  },
  "language_info": {
   "codemirror_mode": {
    "name": "ipython",
    "version": 3
   },
   "file_extension": ".py",
   "mimetype": "text/x-python",
   "name": "python",
   "nbconvert_exporter": "python",
   "pygments_lexer": "ipython3",
   "version": "3.10.7 (main, Sep  7 2022, 15:23:21) [GCC 7.5.0]"
  },
  "orig_nbformat": 4,
  "vscode": {
   "interpreter": {
    "hash": "04ce37ed7bd8402738cab1742e243ae28f52fc6b9a1b8d869a457738e205f6be"
   }
  }
 },
 "nbformat": 4,
 "nbformat_minor": 2
}
