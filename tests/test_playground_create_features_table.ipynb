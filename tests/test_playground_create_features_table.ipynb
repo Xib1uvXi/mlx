{
 "cells": [
  {
   "cell_type": "code",
   "execution_count": null,
   "metadata": {},
   "outputs": [],
   "source": [
    "from ml.generator.lr12 import V1, V1Setting\n",
    "\n",
    "v1 = V1(V1Setting())"
   ]
  },
  {
   "cell_type": "code",
   "execution_count": null,
   "metadata": {},
   "outputs": [],
   "source": [
    "from ml.feature_engineering.factory import MLXFeaturesFactory\n",
    "from ml.feature_engineering.derivative_features_extractor import Extractor, ExtractorSetting\n",
    "from ml.feature_engineering.factors.f_mlp import MAD, MADSetting, BLG, BLGSetting, UUP, UUPSetting\n",
    "from ml.feature_engineering.factors.f_ind import RSI, RSISetting, OBVMAD, OBVMADSetting\n",
    "\n",
    "mad = MAD(MADSetting(fast=5, slow=21))\n",
    "mad1 = MAD(MADSetting(fast=21, slow=89))\n",
    "blg = BLG(BLGSetting(period=5))\n",
    "blg1 = BLG(BLGSetting(period=13))\n",
    "blg2 = BLG(BLGSetting(period=21))\n",
    "blg3 = BLG(BLGSetting(period=89))\n",
    "uup = UUP(UUPSetting(period=5))\n",
    "uup1 = UUP(UUPSetting(period=13))\n",
    "uup2 = UUP(UUPSetting(period=21))\n",
    "uup3 = UUP(UUPSetting(period=89))\n",
    "\n",
    "rsi = RSI(RSISetting(period=21))\n",
    "rsi1 = RSI(RSISetting(period=55))\n",
    "\n",
    "obv = OBVMAD(OBVMADSetting(fast=5, slow=21))\n",
    "obv1 = OBVMAD(OBVMADSetting(fast=21, slow=89))\n",
    "\n",
    "factors = [mad, blg, uup, mad1, blg1, uup1, blg2, uup2, blg3, uup3, rsi, rsi1, obv, obv1]\n",
    "\n",
    "extractor=Extractor(ExtractorSetting(id=\"v1\", roll_max_timeshift=21, roll_min_timeshift=5, n_jobs=95))\n",
    "features_factory = MLXFeaturesFactory()\n",
    "\n",
    "features_factory.set_extractor(extractor)\n",
    "\n",
    "features_factory.add_factor(factors=factors)\n",
    "\n",
    "\n",
    "df = features_factory.factor_extract(v1.df)\n",
    "\n",
    "df.dropna(inplace=True)\n",
    "\n",
    "df"
   ]
  },
  {
   "cell_type": "code",
   "execution_count": null,
   "metadata": {},
   "outputs": [],
   "source": [
    "dfe_data = {\n",
    "    mad.id(): df[mad.id()], blg.id(): df[blg.id()], uup.id(): df[uup.id()],\n",
    "    mad1.id(): df[mad1.id()], blg1.id(): df[blg1.id()], uup1.id(): df[uup1.id()],\n",
    "    blg2.id(): df[blg2.id()], uup2.id(): df[uup2.id()], blg3.id(): df[blg3.id()], uup3.id(): df[uup3.id()],\n",
    "    rsi.id(): df[rsi.id()], rsi1.id(): df[rsi1.id()], obv.id(): df[obv.id()], obv1.id(): df[obv1.id()]\n",
    "}\n",
    "\n",
    "X = features_factory.derivative_features(dfe_data, df[\"n_log_return\"])\n",
    "\n",
    "X"
   ]
  },
  {
   "cell_type": "code",
   "execution_count": null,
   "metadata": {},
   "outputs": [],
   "source": [
    "\n",
    "uuid = \"a7856b39-2e54-4282-aead-96d738cbd0d4\"\n",
    "\n",
    "\n",
    "feature = X.join(df[\"y\"])\n",
    "\n",
    "uid = features_factory.save_derivative_features(feature)\n",
    "\n",
    "print(uid)\n",
    "\n",
    "feature"
   ]
  },
  {
   "cell_type": "code",
   "execution_count": null,
   "metadata": {},
   "outputs": [],
   "source": [
    "# train test split\n",
    "from sklearn.model_selection import train_test_split\n",
    "from sklearn.svm import SVC\n",
    "from sklearn.metrics import classification_report\n",
    "from sklearn.preprocessing import StandardScaler\n",
    "\n",
    "num_train = round(len(feature)*0.7)\n",
    "\n",
    "data_train = feature.iloc[:num_train, :]\n",
    "data_test = feature.iloc[num_train:, :]\n",
    "\n",
    "\n",
    "x_train = data_train.drop(\"y\", axis=1).values\n",
    "y_train = data_train['y']\n",
    "\n",
    "x_test = data_test.drop(\"y\", axis=1).values\n",
    "y_test = data_test['y']\n",
    "\n",
    "scaler = StandardScaler()\n",
    "x_train = scaler.fit_transform(x_train)\n",
    "x_test = scaler.transform(x_test)\n",
    "\n",
    "\n",
    "model = SVC(C=1, kernel='rbf')\n",
    "model.fit(x_train, y_train)\n",
    "\n",
    "y_train_pred = model.predict(x_train)\n",
    "y_test_pred = model.predict(x_test)\n",
    "\n",
    "train_score = model.score(x_train,y_train)\n",
    "print(\"train score\",train_score)\n",
    "\n",
    "test_score = model.score(x_test,y_test)\n",
    "print(\"test score\",test_score)\n",
    "\n",
    "# report\n",
    "report = classification_report(y_test, y_test_pred, labels=[-1, 0, 1], target_names=['short', 'no', 'long'])\n",
    "print(\"report\", report)\n"
   ]
  }
 ],
 "metadata": {
  "kernelspec": {
   "display_name": ".venv",
   "language": "python",
   "name": "python3"
  },
  "language_info": {
   "codemirror_mode": {
    "name": "ipython",
    "version": 3
   },
   "file_extension": ".py",
   "mimetype": "text/x-python",
   "name": "python",
   "nbconvert_exporter": "python",
   "pygments_lexer": "ipython3",
   "version": "3.10.7 (main, Sep  7 2022, 15:23:21) [GCC 7.5.0]"
  },
  "orig_nbformat": 4,
  "vscode": {
   "interpreter": {
    "hash": "04ce37ed7bd8402738cab1742e243ae28f52fc6b9a1b8d869a457738e205f6be"
   }
  }
 },
 "nbformat": 4,
 "nbformat_minor": 2
}
